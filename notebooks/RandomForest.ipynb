{
 "cells": [
  {
   "cell_type": "markdown",
   "metadata": {},
   "source": [
    "**Train Random Forest Model**"
   ]
  },
  {
   "cell_type": "markdown",
   "metadata": {},
   "source": [
    "1. import Python packages and training data"
   ]
  },
  {
   "cell_type": "code",
   "execution_count": 5,
   "metadata": {},
   "outputs": [],
   "source": [
    "# adding required libraries\n",
    "import pandas as pd\n",
    "import numpy as np"
   ]
  },
  {
   "cell_type": "markdown",
   "metadata": {},
   "source": [
    "2. Load the dataset for model training"
   ]
  },
  {
   "cell_type": "code",
   "execution_count": 6,
   "metadata": {},
   "outputs": [],
   "source": [
    "# Load the data from csv\n",
    "x_data =pd.read_csv('../data/interim/x_data.csv')\n",
    "y_data =pd.read_csv('../data/interim/y_data.csv')\n",
    "x_oversample =pd.read_csv('../data/interim/x_oversample.csv')\n",
    "y_oversample =pd.read_csv('../data/interim/y_oversample.csv')\n",
    "x_undersample =pd.read_csv('../data/interim/x_undersample.csv')\n",
    "y_undersample =pd.read_csv('../data/interim/y_undersample.csv')\n",
    "x_test =pd.read_csv('../data/interim/x_test.csv')\n",
    "y_test =pd.read_csv('../data/interim/y_test.csv')\n"
   ]
  },
  {
   "cell_type": "markdown",
   "metadata": {},
   "source": [
    "3. Set up baseline model"
   ]
  },
  {
   "cell_type": "code",
   "execution_count": 7,
   "metadata": {},
   "outputs": [],
   "source": [
    "# find the most occuring value and use it as base model\n",
    "y_mode = y_data.mode()\n",
    "y_shape = (len(x_data), 1)\n",
    "y_base = np.full(y_shape, y_mode)"
   ]
  },
  {
   "cell_type": "code",
   "execution_count": 8,
   "metadata": {},
   "outputs": [
    {
     "data": {
      "text/plain": [
       "0.833125"
      ]
     },
     "execution_count": 8,
     "metadata": {},
     "output_type": "execute_result"
    }
   ],
   "source": [
    "# calculate the accuracy score of the base model\n",
    "from sklearn.metrics import accuracy_score\n",
    "accuracy_score(y_data, y_base)"
   ]
  },
  {
   "cell_type": "markdown",
   "metadata": {},
   "source": [
    "4. Train Random Forest model"
   ]
  },
  {
   "cell_type": "code",
   "execution_count": 9,
   "metadata": {},
   "outputs": [
    {
     "name": "stdout",
     "output_type": "stream",
     "text": [
      "Training score for dataset 1: 1.0\n",
      "Test score for dataset 1: 0.83125\n",
      "Accuracy for dataset 1: 0.83125\n",
      "Training score for dataset 2: 1.0\n",
      "Test score for dataset 2: 0.8\n",
      "Accuracy for dataset 2: 0.8\n",
      "Training score for dataset 3: 1.0\n",
      "Test score for dataset 3: 0.59875\n",
      "Accuracy for dataset 3: 0.59875\n"
     ]
    }
   ],
   "source": [
    "from sklearn.ensemble import RandomForestClassifier\n",
    "datasets = [(x_data, y_data), (x_oversample, y_oversample), (x_undersample, y_undersample)]\n",
    "models = []\n",
    "\n",
    "for i, (x, y) in enumerate(datasets):\n",
    "    rf_model = RandomForestClassifier(random_state=8)\n",
    "    rf_model.fit(x, y.values.ravel())\n",
    "    models.append(rf_model)\n",
    "    print(f'Training score for dataset {i+1}: {rf_model.score(x, y)}')\n",
    "    print(f'Test score for dataset {i+1}: {rf_model.score(x_test, y_test)}')\n",
    "    print(f'Accuracy for dataset {i+1}: {accuracy_score(y_test, rf_model.predict(x_test))}')\n",
    "\n",
    "# Accessing the models\n",
    "rf_model_org = models[0]\n",
    "rf_model_over = models[1]\n",
    "rf_model_under = models[2]"
   ]
  },
  {
   "cell_type": "markdown",
   "metadata": {},
   "source": [
    "5. Perform grid search for optimised parameters"
   ]
  },
  {
   "cell_type": "code",
   "execution_count": 10,
   "metadata": {},
   "outputs": [
    {
     "name": "stdout",
     "output_type": "stream",
     "text": [
      "Fitting 5 folds for each of 81 candidates, totalling 405 fits\n",
      "Best parameters for dataset 1: {'max_depth': 8, 'max_features': 'sqrt', 'min_samples_leaf': 2, 'n_estimators': 200}\n",
      "Fitting 5 folds for each of 81 candidates, totalling 405 fits\n",
      "Best parameters for dataset 2: {'max_depth': 16, 'max_features': 'sqrt', 'min_samples_leaf': 1, 'n_estimators': 500}\n",
      "Fitting 5 folds for each of 81 candidates, totalling 405 fits\n",
      "Best parameters for dataset 3: {'max_depth': 4, 'max_features': None, 'min_samples_leaf': 2, 'n_estimators': 100}\n"
     ]
    }
   ],
   "source": [
    "from sklearn.ensemble import RandomForestClassifier\n",
    "from sklearn.model_selection import GridSearchCV\n",
    "\n",
    "# Define the parameter grid\n",
    "param_grid = {\n",
    "    'n_estimators': [100, 200, 500],\n",
    "    'max_features': [None, 'sqrt', 'log2'],\n",
    "    'max_depth': [4, 8, 16],\n",
    "    'min_samples_leaf':[1, 2, 4]\n",
    "}\n",
    "\n",
    "best_params_list = []\n",
    "\n",
    "for i, (x, y) in enumerate(datasets):\n",
    "    rf = RandomForestClassifier(random_state=8)\n",
    "    grid_search = GridSearchCV(estimator=rf, param_grid=param_grid, cv=5, n_jobs=-1, verbose=2)\n",
    "    grid_search.fit(x, y.values.ravel())\n",
    "    best_params = grid_search.best_params_\n",
    "    best_params_list.append(best_params)\n",
    "    print(f\"Best parameters for dataset {i+1}: {best_params}\")\n"
   ]
  },
  {
   "cell_type": "code",
   "execution_count": 11,
   "metadata": {},
   "outputs": [
    {
     "name": "stdout",
     "output_type": "stream",
     "text": [
      "Training score for dataset 1: 0.8475\n",
      "Test score for dataset 1: 0.836875\n",
      "Accuracy for dataset 1: 0.836875\n",
      "Training score for dataset 2: 0.9991560390097525\n",
      "Test score for dataset 2: 0.795625\n",
      "Accuracy for dataset 2: 0.795625\n",
      "Training score for dataset 3: 0.6877340823970037\n",
      "Test score for dataset 3: 0.626875\n",
      "Accuracy for dataset 3: 0.626875\n"
     ]
    }
   ],
   "source": [
    "# For each dataset, use the best parameters to train a new model and evaluate its performance\n",
    "best_models = []\n",
    "for i, (x, y) in enumerate(datasets):\n",
    "    best_params = best_params_list[i]\n",
    "    rf_model = RandomForestClassifier(**best_params, random_state=8)\n",
    "    rf_model.fit(x, y.values.ravel())\n",
    "    best_models.append(rf_model)\n",
    "    print(f'Training score for dataset {i+1}: {rf_model.score(x, y)}')\n",
    "    print(f'Test score for dataset {i+1}: {rf_model.score(x_test, y_test)}')\n",
    "    print(f'Accuracy for dataset {i+1}: {accuracy_score(y_test, rf_model.predict(x_test))}')"
   ]
  },
  {
   "cell_type": "markdown",
   "metadata": {},
   "source": [
    "5. Check feature importance"
   ]
  },
  {
   "cell_type": "code",
   "execution_count": 12,
   "metadata": {},
   "outputs": [
    {
     "name": "stdout",
     "output_type": "stream",
     "text": [
      "Feature importance for model 1:\n",
      "    Feature  Importance\n",
      "0        GP    0.149951\n",
      "5       FG%    0.083542\n",
      "1       MIN    0.059203\n",
      "8       3P%    0.056973\n",
      "2       PTS    0.056672\n",
      "11      FT%    0.055483\n",
      "14      REB    0.052226\n",
      "12     OREB    0.048376\n",
      "9       FTM    0.047603\n",
      "10      FTA    0.046572\n",
      "3       FGM    0.045540\n",
      "17      BLK    0.044384\n",
      "13     DREB    0.044139\n",
      "7       3PA    0.042043\n",
      "4       FGA    0.041148\n",
      "15      AST    0.036578\n",
      "18      TOV    0.035667\n",
      "6   3P Made    0.029240\n",
      "16      STL    0.024660\n",
      "Feature importance for model 2:\n",
      "    Feature  Importance\n",
      "17      BLK    0.117768\n",
      "0        GP    0.103155\n",
      "10      FTA    0.054938\n",
      "12     OREB    0.054700\n",
      "16      STL    0.054193\n",
      "9       FTM    0.054152\n",
      "11      FT%    0.051588\n",
      "8       3P%    0.050038\n",
      "5       FG%    0.049797\n",
      "18      TOV    0.044511\n",
      "3       FGM    0.044243\n",
      "1       MIN    0.043283\n",
      "13     DREB    0.042489\n",
      "15      AST    0.041895\n",
      "6   3P Made    0.040858\n",
      "14      REB    0.040580\n",
      "2       PTS    0.038378\n",
      "7       3PA    0.037057\n",
      "4       FGA    0.036374\n",
      "Feature importance for model 3:\n",
      "    Feature  Importance\n",
      "0        GP    0.413435\n",
      "5       FG%    0.091400\n",
      "14      REB    0.090526\n",
      "2       PTS    0.060935\n",
      "12     OREB    0.051366\n",
      "11      FT%    0.039353\n",
      "8       3P%    0.030849\n",
      "10      FTA    0.030569\n",
      "13     DREB    0.027425\n",
      "7       3PA    0.024630\n",
      "15      AST    0.023318\n",
      "9       FTM    0.021100\n",
      "1       MIN    0.020505\n",
      "17      BLK    0.018436\n",
      "3       FGM    0.015634\n",
      "4       FGA    0.012062\n",
      "16      STL    0.010284\n",
      "6   3P Made    0.009396\n",
      "18      TOV    0.008778\n"
     ]
    }
   ],
   "source": [
    "# get feature importance\n",
    "for i, model in enumerate(best_models):\n",
    "    # get feature importance\n",
    "    feature_importance = model.feature_importances_\n",
    "\n",
    "    # create a dataframe for better visualization\n",
    "    feature_importance_df = pd.DataFrame({\n",
    "        'Feature': datasets[i][0].columns,\n",
    "        'Importance': feature_importance\n",
    "    }).sort_values(by='Importance', ascending=False)\n",
    "\n",
    "    # display the feature importance\n",
    "    print(f\"Feature importance for model {i+1}:\")\n",
    "    print(feature_importance_df)\n"
   ]
  },
  {
   "cell_type": "markdown",
   "metadata": {},
   "source": []
  },
  {
   "cell_type": "code",
   "execution_count": 16,
   "metadata": {},
   "outputs": [
    {
     "name": "stdout",
     "output_type": "stream",
     "text": [
      "Training score for selected dataset 1: 0.84203125\n",
      "Test score for selected dataset 1: 0.8325\n",
      "Accuracy for selected dataset 1: 0.8325\n",
      "Training score for selected dataset 2: 0.8633720930232558\n",
      "Test score for selected dataset 2: 0.78625\n",
      "Accuracy for selected dataset 2: 0.78625\n",
      "Training score for selected dataset 3: 0.6437265917602997\n",
      "Test score for selected dataset 3: 0.61625\n",
      "Accuracy for selected dataset 3: 0.61625\n"
     ]
    }
   ],
   "source": [
    "# Select only the required columns\n",
    "selected_columns = ['GP', 'BLK']\n",
    "datasets_selected = [(x[selected_columns], y) for x, y in datasets]\n",
    "\n",
    "# Train and evaluate a model for each selected dataset using the best parameters\n",
    "selected_best_models = []\n",
    "\n",
    "for i, (x, y) in enumerate(datasets_selected):\n",
    "    best_params = best_params_list[i]\n",
    "    rf_model = RandomForestClassifier(**best_params, random_state=8)\n",
    "    rf_model.fit(x, y.values.ravel())\n",
    "    selected_best_models.append(rf_model)\n",
    "    print(f'Training score for selected dataset {i+1}: {rf_model.score(x, y)}')\n",
    "    print(f'Test score for selected dataset {i+1}: {rf_model.score(x_test[selected_columns], y_test)}')\n",
    "    print(f'Accuracy for selected dataset {i+1}: {accuracy_score(y_test, rf_model.predict(x_test[selected_columns]))}')"
   ]
  },
  {
   "cell_type": "markdown",
   "metadata": {},
   "source": [
    "6. Exam the model"
   ]
  },
  {
   "cell_type": "code",
   "execution_count": 14,
   "metadata": {},
   "outputs": [],
   "source": [
    "from sklearn.metrics import ConfusionMatrixDisplay\n",
    "import matplotlib.pyplot as plt"
   ]
  },
  {
   "cell_type": "code",
   "execution_count": 23,
   "metadata": {},
   "outputs": [
    {
     "data": {
      "text/plain": [
       "<sklearn.metrics._plot.confusion_matrix.ConfusionMatrixDisplay at 0x164c61a0ad0>"
      ]
     },
     "execution_count": 23,
     "metadata": {},
     "output_type": "execute_result"
    },
    {
     "data": {
      "image/png": "[encoded data removed]",
      "text/plain": [
       "<Figure size 640x480 with 2 Axes>"
      ]
     },
     "metadata": {},
     "output_type": "display_data"
    },
    {
     "data": {
      "image/png": "[encoded data removed]",
      "text/plain": [
       "<Figure size 640x480 with 2 Axes>"
      ]
     },
     "metadata": {},
     "output_type": "display_data"
    }
   ],
   "source": [
    "ConfusionMatrixDisplay.from_estimator(best_models[1], x_data, y_data)\n",
    "ConfusionMatrixDisplay.from_estimator(best_models[1], x_test, y_test)"
   ]
  },
  {
   "cell_type": "code",
   "execution_count": 16,
   "metadata": {},
   "outputs": [
    {
     "data": {
      "text/plain": [
       "<sklearn.metrics._plot.confusion_matrix.ConfusionMatrixDisplay at 0x164c3adcb90>"
      ]
     },
     "execution_count": 16,
     "metadata": {},
     "output_type": "execute_result"
    },
    {
     "data": {
      "image/png": "[encoded data removed]",
      "text/plain": [
       "<Figure size 640x480 with 2 Axes>"
      ]
     },
     "metadata": {},
     "output_type": "display_data"
    },
    {
     "data": {
      "image/png": "[encoded data removed]",
      "text/plain": [
       "<Figure size 640x480 with 2 Axes>"
      ]
     },
     "metadata": {},
     "output_type": "display_data"
    }
   ],
   "source": [
    "ConfusionMatrixDisplay.from_estimator(rf_model, x_data, y_data, cmap=plt.cm.Blues, normalize='true')\n",
    "ConfusionMatrixDisplay.from_estimator(rf_model, x_test, y_test, cmap=plt.cm.Blues, normalize='true')"
   ]
  },
  {
   "cell_type": "markdown",
   "metadata": {},
   "source": [
    "6. Conclusion\n",
    "This is a better model compare to SVM model, but the accuracy is not high enough. "
   ]
  },
  {
   "cell_type": "markdown",
   "metadata": {},
   "source": [
    "7. Export Model"
   ]
  },
  {
   "cell_type": "code",
   "execution_count": 24,
   "metadata": {},
   "outputs": [
    {
     "data": {
      "text/plain": [
       "['../models/rf_model.pkl']"
      ]
     },
     "execution_count": 24,
     "metadata": {},
     "output_type": "execute_result"
    }
   ],
   "source": [
    "import joblib\n",
    "\n",
    "# Export the Random Forest model\n",
    "joblib.dump(rf_model, '../models/rf_model.pkl')"
   ]
  }
 ],
 "metadata": {
  "kernelspec": {
   "display_name": ".venv",
   "language": "python",
   "name": "python3"
  },
  "language_info": {
   "codemirror_mode": {
    "name": "ipython",
    "version": 3
   },
   "file_extension": ".py",
   "mimetype": "text/x-python",
   "name": "python",
   "nbconvert_exporter": "python",
   "pygments_lexer": "ipython3",
   "version": "3.11.9"
  }
 },
 "nbformat": 4,
 "nbformat_minor": 2
}
