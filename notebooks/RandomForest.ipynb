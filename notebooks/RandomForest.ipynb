{
 "cells": [
  {
   "cell_type": "markdown",
   "metadata": {},
   "source": [
    "**Train Random Forest Model**\n",
    "* Get the 3 sets of data from EDA\n",
    "* Train default RandomForest Models\n",
    "* Perform Random Search for best parameters\n",
    "* Remove less important features\n",
    "* Evaluate the models"
   ]
  },
  {
   "cell_type": "markdown",
   "metadata": {},
   "source": [
    "1. import Python packages and training data"
   ]
  },
  {
   "cell_type": "code",
   "execution_count": 88,
   "metadata": {},
   "outputs": [],
   "source": [
    "# adding required libraries\n",
    "import pandas as pd\n",
    "import numpy as np"
   ]
  },
  {
   "cell_type": "markdown",
   "metadata": {},
   "source": [
    "2. Load the dataset for model training"
   ]
  },
  {
   "cell_type": "code",
   "execution_count": 89,
   "metadata": {},
   "outputs": [],
   "source": [
    "# Load the data from csv\n",
    "x_data_org =pd.read_csv('../data/interim/x_data_org.csv')\n",
    "y_data_org =pd.read_csv('../data/interim/y_data_org.csv')\n",
    "x_data_eda =pd.read_csv('../data/interim/x_data.csv')\n",
    "y_data_eda =pd.read_csv('../data/interim/y_data.csv')\n",
    "x_balanced_data =pd.read_csv('../data/interim/x_balanced_data.csv')\n",
    "y_balanced_data =pd.read_csv('../data/interim/y_balanced_data.csv')\n",
    "\n",
    "x_test_org =pd.read_csv('../data/interim/x_test_org.csv')\n",
    "y_test_org =pd.read_csv('../data/interim/y_test_org.csv')\n",
    "x_test_eda =pd.read_csv('../data/interim/x_test.csv')\n",
    "y_test_eda =pd.read_csv('../data/interim/y_test.csv')\n",
    "x_balanced_test =pd.read_csv('../data/interim/x_balanced_test.csv')\n",
    "y_balanced_test =pd.read_csv('../data/interim/y_balanced_test.csv')\n"
   ]
  },
  {
   "cell_type": "markdown",
   "metadata": {},
   "source": [
    "3. Set up baseline model"
   ]
  },
  {
   "cell_type": "code",
   "execution_count": 90,
   "metadata": {},
   "outputs": [],
   "source": [
    "# find the most occuring value and use it as base model\n",
    "y_mode = y_data_org.mode()\n",
    "y_shape = (len(x_data_org), 1)\n",
    "y_base = np.full(y_shape, y_mode)"
   ]
  },
  {
   "cell_type": "code",
   "execution_count": 91,
   "metadata": {},
   "outputs": [
    {
     "data": {
      "text/plain": [
       "0.833125"
      ]
     },
     "execution_count": 91,
     "metadata": {},
     "output_type": "execute_result"
    }
   ],
   "source": [
    "# calculate the accuracy score of the base model\n",
    "from sklearn.metrics import accuracy_score\n",
    "accuracy_score(y_data_org, y_base)"
   ]
  },
  {
   "cell_type": "markdown",
   "metadata": {},
   "source": [
    "4. Train Random Forest model"
   ]
  },
  {
   "cell_type": "code",
   "execution_count": 92,
   "metadata": {},
   "outputs": [
    {
     "name": "stdout",
     "output_type": "stream",
     "text": [
      "Training score for dataset 1: 1.0\n",
      "Test score for dataset 1: 0.83125\n",
      "\n",
      "\n",
      "Training score for dataset 2: 1.0\n",
      "Test score for dataset 2: 0.8369803063457331\n",
      "\n",
      "\n",
      "Training score for dataset 3: 1.0\n",
      "Test score for dataset 3: 0.6175438596491228\n",
      "\n",
      "\n"
     ]
    }
   ],
   "source": [
    "from sklearn.ensemble import RandomForestClassifier\n",
    "datasets = [(x_data_org, y_data_org, x_test_org, y_test_org), (x_data_eda, y_data_eda, x_test_eda, y_test_eda), (x_balanced_data, y_balanced_data, x_balanced_test, y_balanced_test)]\n",
    "models = []\n",
    "\n",
    "for i, (x, y, x_test, y_test) in enumerate(datasets):\n",
    "    rf_model = RandomForestClassifier(random_state=8)\n",
    "    rf_model.fit(x, y.values.ravel())\n",
    "    models.append(rf_model)\n",
    "    print(f'Training score for dataset {i+1}: {rf_model.score(x, y)}')\n",
    "    print(f'Test score for dataset {i+1}: {rf_model.score(x_test, y_test)}')\n",
    "    print('\\n')\n",
    "\n",
    "# Accessing the models\n",
    "rf_model_org = models[0]\n",
    "rf_model = models[1]\n",
    "rf_model_balanced = models[1]\n"
   ]
  },
  {
   "cell_type": "markdown",
   "metadata": {},
   "source": [
    "5. Perform grid search for optimised parameters"
   ]
  },
  {
   "cell_type": "code",
   "execution_count": 95,
   "metadata": {},
   "outputs": [
    {
     "name": "stdout",
     "output_type": "stream",
     "text": [
      "Fitting 5 folds for each of 100 candidates, totalling 500 fits\n",
      "Best parameters for dataset 1 using RandomizedSearchCV: {'n_estimators': 300, 'min_samples_split': 2, 'min_samples_leaf': 2, 'max_features': 'log2', 'max_depth': None, 'criterion': 'entropy', 'class_weight': None, 'bootstrap': True}\n",
      "Fitting 5 folds for each of 100 candidates, totalling 500 fits\n",
      "Best parameters for dataset 2 using RandomizedSearchCV: {'n_estimators': 200, 'min_samples_split': 10, 'min_samples_leaf': 1, 'max_features': 'sqrt', 'max_depth': 5, 'criterion': 'gini', 'class_weight': None, 'bootstrap': False}\n",
      "Fitting 5 folds for each of 100 candidates, totalling 500 fits\n",
      "Best parameters for dataset 3 using RandomizedSearchCV: {'n_estimators': 200, 'min_samples_split': 10, 'min_samples_leaf': 1, 'max_features': 'sqrt', 'max_depth': 5, 'criterion': 'entropy', 'class_weight': 'balanced', 'bootstrap': True}\n"
     ]
    }
   ],
   "source": [
    "from sklearn.ensemble import RandomForestClassifier\n",
    "from sklearn.model_selection import GridSearchCV \n",
    "from sklearn.model_selection import RandomizedSearchCV\n",
    "\n",
    "# Define the parameter grid\n",
    "param_grid = {\n",
    "    'n_estimators': [50, 100, 200, 300],\n",
    "    'max_depth': [5, 10, 15, 20, None],\n",
    "    'min_samples_split': [2, 5, 10],\n",
    "    'min_samples_leaf': [1, 2, 4],\n",
    "    'max_features': ['sqrt', 'log2', None],\n",
    "    'criterion': ['gini', 'entropy'],\n",
    "    'bootstrap': [True, False],\n",
    "    'class_weight': ['balanced', 'balanced_subsample', None]\n",
    "}\n",
    "\n",
    "best_params_list = []\n",
    "\n",
    "# Perform RandomizedSearchCV for each dataset\n",
    "for i, (x, y, x_test, y_test) in enumerate(datasets):\n",
    "    rf = RandomForestClassifier(random_state=8)\n",
    "    random_search = RandomizedSearchCV(estimator=rf, param_distributions=param_grid, n_iter=100, cv=5, n_jobs=-1, verbose=2, random_state=8)\n",
    "    random_search.fit(x, y.values.ravel())\n",
    "    best_params = random_search.best_params_\n",
    "    best_params_list.append(best_params)\n",
    "    print(f\"Best parameters for dataset {i+1} using RandomizedSearchCV: {best_params}\")\n"
   ]
  },
  {
   "cell_type": "code",
   "execution_count": 96,
   "metadata": {},
   "outputs": [
    {
     "name": "stdout",
     "output_type": "stream",
     "text": [
      "Training score for dataset 1: 0.9975\n",
      "Test score for dataset 1: 0.83\n",
      "Training score for dataset 2: 0.8459644322845418\n",
      "Test score for dataset 2: 0.8413566739606126\n",
      "Training score for dataset 3: 0.7129060579455663\n",
      "Test score for dataset 3: 0.6456140350877193\n"
     ]
    }
   ],
   "source": [
    "# For each dataset, use the best parameters to train a new model and evaluate its performance\n",
    "best_models = []\n",
    "for i, (x, y, x_test, y_test) in enumerate(datasets):\n",
    "    best_params = best_params_list[i]\n",
    "    rf_model = RandomForestClassifier(**best_params, random_state=8)\n",
    "    rf_model.fit(x, y.values.ravel())\n",
    "    best_models.append(rf_model)\n",
    "    print(f'Training score for dataset {i+1}: {rf_model.score(x, y)}')\n",
    "    print(f'Test score for dataset {i+1}: {rf_model.score(x_test, y_test)}')"
   ]
  },
  {
   "cell_type": "markdown",
   "metadata": {},
   "source": [
    "5. Check feature importance"
   ]
  },
  {
   "cell_type": "code",
   "execution_count": 101,
   "metadata": {},
   "outputs": [
    {
     "name": "stdout",
     "output_type": "stream",
     "text": [
      "Feature importance for model 1:\n",
      "    Feature  Importance\n",
      "0        GP    0.094325\n",
      "5       FG%    0.074101\n",
      "8       3P%    0.069154\n",
      "11      FT%    0.067265\n",
      "1       MIN    0.064910\n",
      "2       PTS    0.054932\n",
      "14      REB    0.051969\n",
      "4       FGA    0.051202\n",
      "7       3PA    0.050867\n",
      "13     DREB    0.047924\n",
      "15      AST    0.047891\n",
      "10      FTA    0.046150\n",
      "3       FGM    0.044414\n",
      "12     OREB    0.042961\n",
      "9       FTM    0.041702\n",
      "18      TOV    0.041614\n",
      "17      BLK    0.038447\n",
      "6   3P Made    0.035165\n",
      "16      STL    0.035007\n",
      "Feature importance for model 2:\n",
      "    Feature  Importance\n",
      "0        GP    0.244560\n",
      "5       FG%    0.116052\n",
      "1       MIN    0.081062\n",
      "14      REB    0.074544\n",
      "9       FTM    0.052220\n",
      "13     DREB    0.049337\n",
      "8       3P%    0.048800\n",
      "2       PTS    0.047481\n",
      "11      FT%    0.043006\n",
      "10      FTA    0.033364\n",
      "12     OREB    0.033216\n",
      "18      TOV    0.032081\n",
      "3       FGM    0.027466\n",
      "7       3PA    0.025852\n",
      "17      BLK    0.021851\n",
      "4       FGA    0.020281\n",
      "15      AST    0.020128\n",
      "16      STL    0.016614\n",
      "6   3P Made    0.012085\n",
      "Feature importance for model 3:\n",
      "    Feature  Importance\n",
      "0        GP    0.155015\n",
      "2       PTS    0.078727\n",
      "5       FG%    0.075396\n",
      "1       MIN    0.071480\n",
      "3       FGM    0.058886\n",
      "11      FT%    0.058157\n",
      "10      FTA    0.057811\n",
      "14      REB    0.055196\n",
      "9       FTM    0.055033\n",
      "4       FGA    0.053898\n",
      "12     OREB    0.051589\n",
      "8       3P%    0.038747\n",
      "18      TOV    0.034498\n",
      "13     DREB    0.033377\n",
      "7       3PA    0.030404\n",
      "15      AST    0.029519\n",
      "16      STL    0.025628\n",
      "17      BLK    0.019086\n",
      "6   3P Made    0.017553\n"
     ]
    }
   ],
   "source": [
    "# get feature importance\n",
    "for i, model in enumerate(best_models):\n",
    "    # get feature importance\n",
    "    feature_importance = model.feature_importances_\n",
    "\n",
    "    # create a dataframe for better visualization\n",
    "    feature_importance_df = pd.DataFrame({\n",
    "        'Feature': datasets[i][0].columns,\n",
    "        'Importance': feature_importance\n",
    "    }).sort_values(by='Importance', ascending=False)\n",
    "\n",
    "    # display the feature importance\n",
    "    print(f\"Feature importance for model {i+1}:\")\n",
    "    print(feature_importance_df)\n"
   ]
  },
  {
   "cell_type": "markdown",
   "metadata": {},
   "source": []
  },
  {
   "cell_type": "code",
   "execution_count": 111,
   "metadata": {},
   "outputs": [
    {
     "name": "stdout",
     "output_type": "stream",
     "text": [
      "Dataset 1 filtered features:\n",
      "Index(['GP', 'MIN', 'PTS', 'FGA', 'FG%', '3PA', '3P%', 'FT%', 'REB'], dtype='object')\n",
      "Dataset 2 filtered features:\n",
      "Index(['GP', 'MIN', 'FG%', 'FTM', 'REB'], dtype='object')\n",
      "Dataset 3 filtered features:\n",
      "Index(['GP', 'MIN', 'PTS', 'FGM', 'FGA', 'FG%', 'FTM', 'FTA', 'FT%', 'OREB',\n",
      "       'REB'],\n",
      "      dtype='object')\n"
     ]
    }
   ],
   "source": [
    "# Drop features with importance less than 0.02 for each model\n",
    "threshold = 0.05\n",
    "datasets_filtered = []\n",
    "\n",
    "for i, (x, y, x_test, y_test) in enumerate(datasets):\n",
    "    model = best_models[i]\n",
    "    feature_importance = model.feature_importances_\n",
    "    important_features = x.columns[feature_importance >= threshold]\n",
    "    x_filtered = x[important_features]\n",
    "    datasets_filtered.append((x_filtered, y, x_test[important_features], y_test))\n",
    "    print(f\"Dataset {i+1} filtered features:\")\n",
    "    print(important_features)"
   ]
  },
  {
   "cell_type": "code",
   "execution_count": 112,
   "metadata": {},
   "outputs": [
    {
     "name": "stdout",
     "output_type": "stream",
     "text": [
      "Training score for filtered dataset 1: 0.9946875\n",
      "Test score for filtered dataset 1: 0.83\n",
      "Training score for filtered dataset 2: 0.8451436388508892\n",
      "Test score for filtered dataset 2: 0.8413566739606126\n",
      "Training score for filtered dataset 3: 0.7032484635645303\n",
      "Test score for filtered dataset 3: 0.6456140350877193\n"
     ]
    }
   ],
   "source": [
    "# Train and evaluate a model for each filtered dataset using the best parameters\n",
    "filtered_best_models = []\n",
    "\n",
    "for i, (x, y, x_test, y_test) in enumerate(datasets_filtered):\n",
    "    best_params = best_params_list[i]\n",
    "    rf_model = RandomForestClassifier(**best_params, random_state=8)\n",
    "    rf_model.fit(x, y.values.ravel())\n",
    "    filtered_best_models.append(rf_model)\n",
    "    print(f'Training score for filtered dataset {i+1}: {rf_model.score(x, y)}')\n",
    "    print(f'Test score for filtered dataset {i+1}: {rf_model.score(x_test, y_test)}')"
   ]
  },
  {
   "cell_type": "markdown",
   "metadata": {},
   "source": [
    "6. Seems the model using EDA dataset and best parameters and reduced features is the best model. Exam the model with diagrams"
   ]
  },
  {
   "cell_type": "code",
   "execution_count": 118,
   "metadata": {},
   "outputs": [],
   "source": [
    "from sklearn.metrics import ConfusionMatrixDisplay\n",
    "import matplotlib.pyplot as plt"
   ]
  },
  {
   "cell_type": "code",
   "execution_count": 121,
   "metadata": {},
   "outputs": [
    {
     "data": {
      "image/png": "[encoded data removed]",
      "text/plain": [
       "<Figure size 640x480 with 2 Axes>"
      ]
     },
     "metadata": {},
     "output_type": "display_data"
    },
    {
     "data": {
      "image/png": "[encoded data removed]",
      "text/plain": [
       "<Figure size 640x480 with 2 Axes>"
      ]
     },
     "metadata": {},
     "output_type": "display_data"
    },
    {
     "data": {
      "image/png": "[encoded data removed]",
      "text/plain": [
       "<Figure size 640x480 with 2 Axes>"
      ]
     },
     "metadata": {},
     "output_type": "display_data"
    }
   ],
   "source": [
    "# Evaluate each model in filtered_best_models using ConfusionMatrixDisplay\n",
    "for i, (x, y, x_test, y_test) in enumerate(datasets_filtered):\n",
    "    model = filtered_best_models[i]\n",
    "    y_pred = model.predict(x_test)\n",
    "    ConfusionMatrixDisplay.from_predictions(y_test, y_pred)\n",
    "    plt.title(f'Confusion Matrix for Filtered Model {i+1}')\n",
    "    plt.show()"
   ]
  },
  {
   "cell_type": "markdown",
   "metadata": {},
   "source": [
    "6. Conclusion\n",
    "This is a better model compare to SVM model, but the accuracy is not high enough. "
   ]
  },
  {
   "cell_type": "markdown",
   "metadata": {},
   "source": [
    "7. Export Model"
   ]
  },
  {
   "cell_type": "code",
   "execution_count": 67,
   "metadata": {},
   "outputs": [
    {
     "data": {
      "text/plain": [
       "['../models/rf_model.pkl']"
      ]
     },
     "execution_count": 67,
     "metadata": {},
     "output_type": "execute_result"
    }
   ],
   "source": [
    "import joblib\n",
    "\n",
    "# Export the Random Forest model\n",
    "joblib.dump(best_models[0], '../models/rf_model.pkl')"
   ]
  }
 ],
 "metadata": {
  "kernelspec": {
   "display_name": ".venv",
   "language": "python",
   "name": "python3"
  },
  "language_info": {
   "codemirror_mode": {
    "name": "ipython",
    "version": 3
   },
   "file_extension": ".py",
   "mimetype": "text/x-python",
   "name": "python",
   "nbconvert_exporter": "python",
   "pygments_lexer": "ipython3",
   "version": "3.11.9"
  }
 },
 "nbformat": 4,
 "nbformat_minor": 2
}
