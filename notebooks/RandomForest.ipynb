{
 "cells": [
  {
   "cell_type": "markdown",
   "metadata": {},
   "source": [
    "**Train Random Forest Model**"
   ]
  },
  {
   "cell_type": "markdown",
   "metadata": {},
   "source": [
    "1. import Python packages and training data"
   ]
  },
  {
   "cell_type": "code",
   "execution_count": 1,
   "metadata": {},
   "outputs": [],
   "source": [
    "# adding required libraries\n",
    "import pandas as pd\n",
    "import numpy as np"
   ]
  },
  {
   "cell_type": "markdown",
   "metadata": {},
   "source": [
    "2. Load the dataset for model training"
   ]
  },
  {
   "cell_type": "code",
   "execution_count": 2,
   "metadata": {},
   "outputs": [],
   "source": [
    "# Load the data from csv\n",
    "x_data =pd.read_csv('../data/interim/x_data.csv')\n",
    "y_data =pd.read_csv('../data/interim/y_data.csv')\n",
    "x_oversample =pd.read_csv('../data/interim/x_oversample.csv')\n",
    "y_oversample =pd.read_csv('../data/interim/y_oversample.csv')\n",
    "x_undersample =pd.read_csv('../data/interim/x_undersample.csv')\n",
    "y_undersample =pd.read_csv('../data/interim/y_undersample.csv')\n",
    "x_test =pd.read_csv('../data/interim/x_test.csv')\n",
    "y_test =pd.read_csv('../data/interim/y_test.csv')\n"
   ]
  },
  {
   "cell_type": "markdown",
   "metadata": {},
   "source": [
    "3. Set up baseline model"
   ]
  },
  {
   "cell_type": "code",
   "execution_count": 3,
   "metadata": {},
   "outputs": [],
   "source": [
    "# find the most occuring value and use it as base model\n",
    "y_mode = y_data.mode()\n",
    "y_shape = (len(x_data), 1)\n",
    "y_base = np.full(y_shape, y_mode)"
   ]
  },
  {
   "cell_type": "code",
   "execution_count": 4,
   "metadata": {},
   "outputs": [
    {
     "data": {
      "text/plain": [
       "0.8258791396381018"
      ]
     },
     "execution_count": 4,
     "metadata": {},
     "output_type": "execute_result"
    }
   ],
   "source": [
    "# calculate the accuracy score of the base model\n",
    "from sklearn.metrics import accuracy_score\n",
    "accuracy_score(y_data, y_base)"
   ]
  },
  {
   "cell_type": "markdown",
   "metadata": {},
   "source": [
    "4. Train Random Forest model"
   ]
  },
  {
   "cell_type": "code",
   "execution_count": 5,
   "metadata": {},
   "outputs": [
    {
     "name": "stdout",
     "output_type": "stream",
     "text": [
      "Training score for dataset 1: 1.0\n",
      "Test score for dataset 1: 0.8327645051194539\n",
      "Accuracy for dataset 1: 0.8327645051194539\n",
      "Training score for dataset 2: 1.0\n",
      "Test score for dataset 2: 0.8\n",
      "Accuracy for dataset 2: 0.8\n",
      "Training score for dataset 3: 1.0\n",
      "Test score for dataset 3: 0.6013651877133106\n",
      "Accuracy for dataset 3: 0.6013651877133106\n"
     ]
    }
   ],
   "source": [
    "from sklearn.ensemble import RandomForestClassifier\n",
    "datasets = [(x_data, y_data), (x_oversample, y_oversample), (x_undersample, y_undersample)]\n",
    "models = []\n",
    "\n",
    "for i, (x, y) in enumerate(datasets):\n",
    "    rf_model = RandomForestClassifier(random_state=8)\n",
    "    rf_model.fit(x, y.values.ravel())\n",
    "    models.append(rf_model)\n",
    "    print(f'Training score for dataset {i+1}: {rf_model.score(x, y)}')\n",
    "    print(f'Test score for dataset {i+1}: {rf_model.score(x_test, y_test)}')\n",
    "    print(f'Accuracy for dataset {i+1}: {accuracy_score(y_test, rf_model.predict(x_test))}')\n",
    "\n",
    "# Accessing the models\n",
    "rf_model_org = models[0]\n",
    "rf_model_over = models[1]\n",
    "rf_model_under = models[2]"
   ]
  },
  {
   "cell_type": "markdown",
   "metadata": {},
   "source": [
    "5. Perform grid search for optimised parameters"
   ]
  },
  {
   "cell_type": "code",
   "execution_count": 6,
   "metadata": {},
   "outputs": [
    {
     "name": "stdout",
     "output_type": "stream",
     "text": [
      "Fitting 5 folds for each of 81 candidates, totalling 405 fits\n",
      "Best parameters for dataset 1: {'max_depth': 4, 'max_features': None, 'min_samples_leaf': 1, 'n_estimators': 100}\n",
      "Fitting 5 folds for each of 81 candidates, totalling 405 fits\n",
      "Best parameters for dataset 2: {'max_depth': 16, 'max_features': 'sqrt', 'min_samples_leaf': 1, 'n_estimators': 500}\n",
      "Fitting 5 folds for each of 81 candidates, totalling 405 fits\n",
      "Best parameters for dataset 3: {'max_depth': 4, 'max_features': None, 'min_samples_leaf': 2, 'n_estimators': 200}\n"
     ]
    }
   ],
   "source": [
    "from sklearn.ensemble import RandomForestClassifier\n",
    "from sklearn.model_selection import GridSearchCV\n",
    "\n",
    "# Define the parameter grid\n",
    "param_grid = {\n",
    "    'n_estimators': [100, 200, 500],\n",
    "    'max_features': [None, 'sqrt', 'log2'],\n",
    "    'max_depth': [4, 8, 16],\n",
    "    'min_samples_leaf':[1, 2, 4]\n",
    "}\n",
    "\n",
    "best_params_list = []\n",
    "\n",
    "for i, (x, y) in enumerate(datasets):\n",
    "    rf = RandomForestClassifier(random_state=8)\n",
    "    grid_search = GridSearchCV(estimator=rf, param_grid=param_grid, cv=5, n_jobs=-1, verbose=2)\n",
    "    grid_search.fit(x, y.values.ravel())\n",
    "    best_params = grid_search.best_params_\n",
    "    best_params_list.append(best_params)\n",
    "    print(f\"Best parameters for dataset {i+1}: {best_params}\")\n"
   ]
  },
  {
   "cell_type": "code",
   "execution_count": 7,
   "metadata": {},
   "outputs": [
    {
     "name": "stdout",
     "output_type": "stream",
     "text": [
      "Training score for dataset 1: 0.8287811539774668\n",
      "Test score for dataset 1: 0.8361774744027304\n",
      "Accuracy for dataset 1: 0.8361774744027304\n",
      "Training score for dataset 2: 0.9983464241422075\n",
      "Test score for dataset 2: 0.7904436860068259\n",
      "Accuracy for dataset 2: 0.7904436860068259\n",
      "Training score for dataset 3: 0.6877450980392157\n",
      "Test score for dataset 3: 0.5890784982935153\n",
      "Accuracy for dataset 3: 0.5890784982935153\n"
     ]
    }
   ],
   "source": [
    "# For each dataset, use the best parameters to train a new model and evaluate its performance\n",
    "best_models = []\n",
    "for i, (x, y) in enumerate(datasets):\n",
    "    best_params = best_params_list[i]\n",
    "    rf_model = RandomForestClassifier(**best_params, random_state=8)\n",
    "    rf_model.fit(x, y.values.ravel())\n",
    "    best_models.append(rf_model)\n",
    "    print(f'Training score for dataset {i+1}: {rf_model.score(x, y)}')\n",
    "    print(f'Test score for dataset {i+1}: {rf_model.score(x_test, y_test)}')\n",
    "    print(f'Accuracy for dataset {i+1}: {accuracy_score(y_test, rf_model.predict(x_test))}')"
   ]
  },
  {
   "cell_type": "markdown",
   "metadata": {},
   "source": [
    "5. Check feature importance"
   ]
  },
  {
   "cell_type": "code",
   "execution_count": 8,
   "metadata": {},
   "outputs": [
    {
     "name": "stdout",
     "output_type": "stream",
     "text": [
      "Feature importance for model 1:\n",
      "    Feature  Importance\n",
      "0        GP    0.498242\n",
      "5       FG%    0.109397\n",
      "11      FT%    0.043591\n",
      "12     OREB    0.038032\n",
      "2       PTS    0.033874\n",
      "9       FTM    0.031369\n",
      "10      FTA    0.029339\n",
      "17      BLK    0.026041\n",
      "1       MIN    0.023824\n",
      "8       3P%    0.022980\n",
      "18      TOV    0.022365\n",
      "13     DREB    0.021426\n",
      "15      AST    0.021129\n",
      "3       FGM    0.020549\n",
      "14      REB    0.018162\n",
      "7       3PA    0.014065\n",
      "4       FGA    0.011695\n",
      "16      STL    0.008647\n",
      "6   3P Made    0.005272\n",
      "Feature importance for model 2:\n",
      "    Feature  Importance\n",
      "17      BLK    0.111343\n",
      "0        GP    0.099474\n",
      "9       FTM    0.058179\n",
      "12     OREB    0.058028\n",
      "16      STL    0.056962\n",
      "11      FT%    0.053401\n",
      "3       FGM    0.050552\n",
      "8       3P%    0.048251\n",
      "10      FTA    0.048147\n",
      "5       FG%    0.047554\n",
      "15      AST    0.044280\n",
      "18      TOV    0.043596\n",
      "6   3P Made    0.042464\n",
      "13     DREB    0.042380\n",
      "1       MIN    0.042180\n",
      "2       PTS    0.039917\n",
      "14      REB    0.038905\n",
      "7       3PA    0.037591\n",
      "4       FGA    0.036795\n",
      "Feature importance for model 3:\n",
      "    Feature  Importance\n",
      "0        GP    0.457276\n",
      "17      BLK    0.066096\n",
      "14      REB    0.050354\n",
      "5       FG%    0.049837\n",
      "11      FT%    0.048477\n",
      "12     OREB    0.042806\n",
      "1       MIN    0.039589\n",
      "18      TOV    0.035375\n",
      "2       PTS    0.033993\n",
      "8       3P%    0.024175\n",
      "9       FTM    0.024125\n",
      "3       FGM    0.023746\n",
      "15      AST    0.023530\n",
      "13     DREB    0.019999\n",
      "10      FTA    0.016088\n",
      "16      STL    0.012649\n",
      "7       3PA    0.011476\n",
      "4       FGA    0.010816\n",
      "6   3P Made    0.009592\n"
     ]
    }
   ],
   "source": [
    "# get feature importance\n",
    "for i, model in enumerate(best_models):\n",
    "    # get feature importance\n",
    "    feature_importance = model.feature_importances_\n",
    "\n",
    "    # create a dataframe for better visualization\n",
    "    feature_importance_df = pd.DataFrame({\n",
    "        'Feature': datasets[i][0].columns,\n",
    "        'Importance': feature_importance\n",
    "    }).sort_values(by='Importance', ascending=False)\n",
    "\n",
    "    # display the feature importance\n",
    "    print(f\"Feature importance for model {i+1}:\")\n",
    "    print(feature_importance_df)\n"
   ]
  },
  {
   "cell_type": "markdown",
   "metadata": {},
   "source": []
  },
  {
   "cell_type": "code",
   "execution_count": 10,
   "metadata": {},
   "outputs": [
    {
     "name": "stdout",
     "output_type": "stream",
     "text": [
      "Dataset 1 filtered features:\n",
      "Index(['GP', 'FG%', 'FT%'], dtype='object')\n",
      "Dataset 2 filtered features:\n",
      "Index(['GP', 'MIN', 'FGM', 'FG%', '3P Made', '3P%', 'FTM', 'FTA', 'FT%',\n",
      "       'OREB', 'DREB', 'AST', 'STL', 'BLK', 'TOV'],\n",
      "      dtype='object')\n",
      "Dataset 3 filtered features:\n",
      "Index(['GP', 'FG%', 'FT%', 'OREB', 'REB', 'BLK'], dtype='object')\n"
     ]
    }
   ],
   "source": [
    "# Drop features with importance less than 0.02 for each model\n",
    "threshold = 0.04\n",
    "datasets_filtered = []\n",
    "\n",
    "for i, (x, y) in enumerate(datasets):\n",
    "    model = best_models[i]\n",
    "    feature_importance = model.feature_importances_\n",
    "    important_features = x.columns[feature_importance >= threshold]\n",
    "    x_filtered = x[important_features]\n",
    "    datasets_filtered.append((x_filtered, y))\n",
    "    print(f\"Dataset {i+1} filtered features:\")\n",
    "    print(important_features)"
   ]
  },
  {
   "cell_type": "code",
   "execution_count": 11,
   "metadata": {},
   "outputs": [
    {
     "name": "stdout",
     "output_type": "stream",
     "text": [
      "Fitting 5 folds for each of 81 candidates, totalling 405 fits\n",
      "Best parameters for filtered dataset 1: {'max_depth': 4, 'max_features': 'sqrt', 'min_samples_leaf': 1, 'n_estimators': 100}\n",
      "Fitting 5 folds for each of 81 candidates, totalling 405 fits\n",
      "Best parameters for filtered dataset 2: {'max_depth': 16, 'max_features': 'sqrt', 'min_samples_leaf': 1, 'n_estimators': 500}\n",
      "Fitting 5 folds for each of 81 candidates, totalling 405 fits\n",
      "Best parameters for filtered dataset 3: {'max_depth': 4, 'max_features': None, 'min_samples_leaf': 4, 'n_estimators': 100}\n"
     ]
    }
   ],
   "source": [
    "# Perform grid search for optimized parameters on filtered datasets\n",
    "filtered_best_params_list = []\n",
    "\n",
    "for i, (x, y) in enumerate(datasets_filtered):\n",
    "    rf = RandomForestClassifier(random_state=8)\n",
    "    grid_search = GridSearchCV(estimator=rf, param_grid=param_grid, cv=5, n_jobs=-1, verbose=2)\n",
    "    grid_search.fit(x, y.values.ravel())\n",
    "    best_params = grid_search.best_params_\n",
    "    filtered_best_params_list.append(best_params)\n",
    "    print(f\"Best parameters for filtered dataset {i+1}: {best_params}\")"
   ]
  },
  {
   "cell_type": "code",
   "execution_count": 12,
   "metadata": {},
   "outputs": [
    {
     "name": "stdout",
     "output_type": "stream",
     "text": [
      "Training score for filtered dataset 1: 0.8263912598156368\n",
      "Test score for filtered dataset 1: 0.8354948805460751\n",
      "Accuracy for filtered dataset 1: 0.8354948805460751\n",
      "Training score for filtered dataset 2: 0.9985531211244316\n",
      "Test score for filtered dataset 2: 0.7918088737201365\n",
      "Accuracy for filtered dataset 2: 0.7918088737201365\n",
      "Training score for filtered dataset 3: 0.675\n",
      "Test score for filtered dataset 3: 0.6\n",
      "Accuracy for filtered dataset 3: 0.6\n"
     ]
    }
   ],
   "source": [
    "# Train and evaluate a model for each filtered dataset using the best parameters\n",
    "filtered_best_models = []\n",
    "\n",
    "for i, (x, y) in enumerate(datasets_filtered):\n",
    "    best_params = filtered_best_params_list[i]\n",
    "    rf_model = RandomForestClassifier(**best_params, random_state=8)\n",
    "    rf_model.fit(x, y.values.ravel())\n",
    "    filtered_best_models.append(rf_model)\n",
    "    print(f'Training score for filtered dataset {i+1}: {rf_model.score(x, y)}')\n",
    "    print(f'Test score for filtered dataset {i+1}: {rf_model.score(x_test[x.columns], y_test)}')\n",
    "    print(f'Accuracy for filtered dataset {i+1}: {accuracy_score(y_test, rf_model.predict(x_test[x.columns]))}')"
   ]
  },
  {
   "cell_type": "markdown",
   "metadata": {},
   "source": [
    "6. Seems the model using original dataset and best parameters is the best model. Exam the model with diagrams"
   ]
  },
  {
   "cell_type": "code",
   "execution_count": 15,
   "metadata": {},
   "outputs": [],
   "source": [
    "from sklearn.metrics import ConfusionMatrixDisplay\n",
    "import matplotlib.pyplot as plt"
   ]
  },
  {
   "cell_type": "code",
   "execution_count": 17,
   "metadata": {},
   "outputs": [
    {
     "data": {
      "image/png": "[encoded data removed]",
      "text/plain": [
       "<Figure size 640x480 with 2 Axes>"
      ]
     },
     "metadata": {},
     "output_type": "display_data"
    },
    {
     "data": {
      "image/png": "[encoded data removed]",
      "text/plain": [
       "<Figure size 640x480 with 2 Axes>"
      ]
     },
     "metadata": {},
     "output_type": "display_data"
    },
    {
     "data": {
      "image/png": "[encoded data removed]",
      "text/plain": [
       "<Figure size 640x480 with 2 Axes>"
      ]
     },
     "metadata": {},
     "output_type": "display_data"
    }
   ],
   "source": [
    "for i, (x, y) in enumerate(datasets_filtered):\n",
    "    ConfusionMatrixDisplay.from_estimator(filtered_best_models[i], x, y, cmap=plt.cm.Blues, normalize='true')\n",
    "    plt.title(f'Confusion Matrix for Filtered Dataset {i+1}')\n",
    "    plt.show()"
   ]
  },
  {
   "cell_type": "markdown",
   "metadata": {},
   "source": [
    "6. Conclusion\n",
    "This is a better model compare to SVM model, but the accuracy is not high enough. "
   ]
  },
  {
   "cell_type": "markdown",
   "metadata": {},
   "source": [
    "7. Export Model"
   ]
  },
  {
   "cell_type": "code",
   "execution_count": 67,
   "metadata": {},
   "outputs": [
    {
     "data": {
      "text/plain": [
       "['../models/rf_model.pkl']"
      ]
     },
     "execution_count": 67,
     "metadata": {},
     "output_type": "execute_result"
    }
   ],
   "source": [
    "import joblib\n",
    "\n",
    "# Export the Random Forest model\n",
    "joblib.dump(best_models[0], '../models/rf_model.pkl')"
   ]
  }
 ],
 "metadata": {
  "kernelspec": {
   "display_name": ".venv",
   "language": "python",
   "name": "python3"
  },
  "language_info": {
   "codemirror_mode": {
    "name": "ipython",
    "version": 3
   },
   "file_extension": ".py",
   "mimetype": "text/x-python",
   "name": "python",
   "nbconvert_exporter": "python",
   "pygments_lexer": "ipython3",
   "version": "3.11.9"
  }
 },
 "nbformat": 4,
 "nbformat_minor": 2
}
