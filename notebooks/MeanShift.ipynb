{
 "cells": [
  {
   "cell_type": "markdown",
   "metadata": {},
   "source": [
    "**Train Random Forest Model**"
   ]
  },
  {
   "cell_type": "markdown",
   "metadata": {},
   "source": [
    "1. import Python packages and training data"
   ]
  },
  {
   "cell_type": "code",
   "execution_count": 1,
   "metadata": {},
   "outputs": [],
   "source": [
    "# adding required libraries\n",
    "import pandas as pd\n",
    "import numpy as np"
   ]
  },
  {
   "cell_type": "markdown",
   "metadata": {},
   "source": [
    "2. Load the dataset for model training"
   ]
  },
  {
   "cell_type": "code",
   "execution_count": 2,
   "metadata": {},
   "outputs": [],
   "source": [
    "# Load the data from csv\n",
    "x_data =pd.read_csv('../data/interim/x_data.csv')\n",
    "y_data =pd.read_csv('../data/interim/y_data.csv')\n",
    "x_oversample =pd.read_csv('../data/interim/x_oversample.csv')\n",
    "y_oversample =pd.read_csv('../data/interim/y_oversample.csv')\n",
    "x_undersample =pd.read_csv('../data/interim/x_undersample.csv')\n",
    "y_undersample =pd.read_csv('../data/interim/y_undersample.csv')\n",
    "x_test =pd.read_csv('../data/interim/x_test.csv')\n",
    "y_test =pd.read_csv('../data/interim/y_test.csv')\n"
   ]
  },
  {
   "cell_type": "markdown",
   "metadata": {},
   "source": [
    "3. Set up baseline model"
   ]
  },
  {
   "cell_type": "code",
   "execution_count": 3,
   "metadata": {},
   "outputs": [],
   "source": [
    "# find the most occuring value and use it as base model\n",
    "y_mode = y_data.mode()\n",
    "y_shape = (len(x_data), 1)\n",
    "y_base = np.full(y_shape, y_mode)"
   ]
  },
  {
   "cell_type": "code",
   "execution_count": 4,
   "metadata": {},
   "outputs": [
    {
     "data": {
      "text/plain": [
       "0.8265777321703438"
      ]
     },
     "execution_count": 4,
     "metadata": {},
     "output_type": "execute_result"
    }
   ],
   "source": [
    "# calculate the accuracy score of the base model\n",
    "from sklearn.metrics import accuracy_score\n",
    "accuracy_score(y_data, y_base)"
   ]
  },
  {
   "cell_type": "markdown",
   "metadata": {},
   "source": [
    "4. Train and evaluate Mean-Shift model"
   ]
  },
  {
   "cell_type": "code",
   "execution_count": 7,
   "metadata": {},
   "outputs": [
    {
     "name": "stdout",
     "output_type": "stream",
     "text": [
      "Mean-shift training score for dataset 1: 0.17342226782965622\n",
      "Mean-shift test score for dataset 1: 0.1689466484268126\n",
      "Mean-shift training score for dataset 2: 0.5\n",
      "Mean-shift test score for dataset 2: 0.1689466484268126\n",
      "Mean-shift training score for dataset 3: 0.5\n",
      "Mean-shift test score for dataset 3: 0.1689466484268126\n"
     ]
    }
   ],
   "source": [
    "from sklearn.cluster import MeanShift\n",
    "\n",
    "datasets = [(x_data, y_data), (x_oversample, y_oversample), (x_undersample, y_undersample)]\n",
    "models = []\n",
    "\n",
    "for i, (x, y) in enumerate(datasets):\n",
    "    ms_model = MeanShift()\n",
    "    ms_model.fit(x)\n",
    "    models.append(kmeans_model)\n",
    "    print(f'Mean-shift training score for dataset {i+1}: {accuracy_score(y, ms_model.predict(x))}')\n",
    "    print(f'Mean-shift test score for dataset {i+1}: {accuracy_score(y_test, ms_model.predict(x_test))}')\n",
    "\n",
    "# Accessing the models\n",
    "ms_model_org = models[0]\n",
    "ms_model_over = models[1]\n",
    "ms_model_under = models[2]"
   ]
  },
  {
   "cell_type": "markdown",
   "metadata": {},
   "source": [
    "### 6. Conclusion\n",
    "This model's accuracy is below acceptable level."
   ]
  },
  {
   "cell_type": "markdown",
   "metadata": {},
   "source": [
    "7. Export Model"
   ]
  },
  {
   "cell_type": "code",
   "execution_count": null,
   "metadata": {},
   "outputs": [
    {
     "data": {
      "text/plain": [
       "['../models/rf_model.pkl']"
      ]
     },
     "execution_count": 24,
     "metadata": {},
     "output_type": "execute_result"
    }
   ],
   "source": [
    "import joblib\n",
    "\n",
    "# Export the Random Forest model\n",
    "joblib.dump(ms_model_over, '../models/meanshift_model.pkl')"
   ]
  }
 ],
 "metadata": {
  "kernelspec": {
   "display_name": "Python 3",
   "language": "python",
   "name": "python3"
  },
  "language_info": {
   "codemirror_mode": {
    "name": "ipython",
    "version": 3
   },
   "file_extension": ".py",
   "mimetype": "text/x-python",
   "name": "python",
   "nbconvert_exporter": "python",
   "pygments_lexer": "ipython3",
   "version": "3.10.6"
  }
 },
 "nbformat": 4,
 "nbformat_minor": 2
}
