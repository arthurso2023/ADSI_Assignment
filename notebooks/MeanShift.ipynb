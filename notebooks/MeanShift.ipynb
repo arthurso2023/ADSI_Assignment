{
 "cells": [
  {
   "cell_type": "markdown",
   "metadata": {},
   "source": [
    "**Train Random Forest Model**"
   ]
  },
  {
   "cell_type": "markdown",
   "metadata": {},
   "source": [
    "1. import Python packages and training data"
   ]
  },
  {
   "cell_type": "code",
   "execution_count": 1,
   "metadata": {},
   "outputs": [],
   "source": [
    "# adding required libraries\n",
    "import pandas as pd\n",
    "import numpy as np"
   ]
  },
  {
   "cell_type": "markdown",
   "metadata": {},
   "source": [
    "2. Load the dataset for model training"
   ]
  },
  {
   "cell_type": "code",
   "execution_count": 2,
   "metadata": {},
   "outputs": [],
   "source": [
    "# Load the data from csv\n",
    "x_data_org =pd.read_csv('../data/interim/x_data_org.csv')\n",
    "y_data_org =pd.read_csv('../data/interim/y_data_org.csv')\n",
    "x_data_eda =pd.read_csv('../data/interim/x_data.csv')\n",
    "y_data_eda =pd.read_csv('../data/interim/y_data.csv')\n",
    "x_balanced_data =pd.read_csv('../data/interim/x_balanced_data.csv')\n",
    "y_balanced_data =pd.read_csv('../data/interim/y_balanced_data.csv')\n",
    "\n",
    "x_test_org =pd.read_csv('../data/interim/x_test_org.csv')\n",
    "y_test_org =pd.read_csv('../data/interim/y_test_org.csv')\n",
    "x_test_eda =pd.read_csv('../data/interim/x_test.csv')\n",
    "y_test_eda =pd.read_csv('../data/interim/y_test.csv')\n",
    "x_balanced_test =pd.read_csv('../data/interim/x_balanced_test.csv')\n",
    "y_balanced_test =pd.read_csv('../data/interim/y_balanced_test.csv')\n"
   ]
  },
  {
   "cell_type": "markdown",
   "metadata": {},
   "source": [
    "3. Set up baseline model"
   ]
  },
  {
   "cell_type": "code",
   "execution_count": 3,
   "metadata": {},
   "outputs": [],
   "source": [
    "# find the most occuring value and use it as base model\n",
    "y_mode = y_data_org.mode()\n",
    "y_shape = (len(x_data_org), 1)\n",
    "y_base = np.full(y_shape, y_mode)"
   ]
  },
  {
   "cell_type": "code",
   "execution_count": 4,
   "metadata": {},
   "outputs": [
    {
     "data": {
      "text/plain": [
       "0.833125"
      ]
     },
     "execution_count": 4,
     "metadata": {},
     "output_type": "execute_result"
    }
   ],
   "source": [
    "# calculate the accuracy score of the base model\n",
    "from sklearn.metrics import accuracy_score\n",
    "accuracy_score(y_data_org, y_base)"
   ]
  },
  {
   "cell_type": "markdown",
   "metadata": {},
   "source": [
    "4. Train and evaluate Mean-Shift model"
   ]
  },
  {
   "cell_type": "code",
   "execution_count": 6,
   "metadata": {},
   "outputs": [
    {
     "name": "stdout",
     "output_type": "stream",
     "text": [
      "Mean-shift training score for dataset 1: 0.1671875\n",
      "Mean-shift test score for dataset 1: 0.16625\n",
      "Mean-shift training score for dataset 2: 0.15512995896032833\n",
      "Mean-shift test score for dataset 2: 0.1586433260393873\n",
      "Mean-shift training score for dataset 3: 0.5021949078138718\n",
      "Mean-shift test score for dataset 3: 0.49122807017543857\n"
     ]
    }
   ],
   "source": [
    "from sklearn.cluster import MeanShift\n",
    "\n",
    "datasets = [(x_data_org, y_data_org, x_test_org, y_test_org), (x_data_eda, y_data_eda, x_test_eda, y_test_eda), (x_balanced_data, y_balanced_data, x_balanced_test, y_balanced_test)]\n",
    "models = []\n",
    "\n",
    "for i, (x, y, x_test, y_test) in enumerate(datasets):\n",
    "    ms_model = MeanShift()\n",
    "    ms_model.fit(x)\n",
    "    models.append(ms_model)\n",
    "    print(f'Mean-shift training score for dataset {i+1}: {accuracy_score(y, ms_model.predict(x))}')\n",
    "    print(f'Mean-shift test score for dataset {i+1}: {accuracy_score(y_test, ms_model.predict(x_test))}')\n",
    "\n",
    "# Accessing the models\n",
    "ms_model_org = models[0]\n",
    "ms_model_over = models[1]\n",
    "ms_model_under = models[2]"
   ]
  },
  {
   "cell_type": "markdown",
   "metadata": {},
   "source": [
    "### 6. Conclusion\n",
    "This model's accuracy is below acceptable level."
   ]
  },
  {
   "cell_type": "markdown",
   "metadata": {},
   "source": [
    "7. Export Model"
   ]
  },
  {
   "cell_type": "code",
   "execution_count": null,
   "metadata": {},
   "outputs": [
    {
     "data": {
      "text/plain": [
       "['../models/rf_model.pkl']"
      ]
     },
     "execution_count": 24,
     "metadata": {},
     "output_type": "execute_result"
    }
   ],
   "source": [
    "import joblib\n",
    "\n",
    "# Export the Random Forest model\n",
    "joblib.dump(ms_model_over, '../models/meanshift_model.pkl')"
   ]
  }
 ],
 "metadata": {
  "kernelspec": {
   "display_name": ".venv",
   "language": "python",
   "name": "python3"
  },
  "language_info": {
   "codemirror_mode": {
    "name": "ipython",
    "version": 3
   },
   "file_extension": ".py",
   "mimetype": "text/x-python",
   "name": "python",
   "nbconvert_exporter": "python",
   "pygments_lexer": "ipython3",
   "version": "3.11.9"
  }
 },
 "nbformat": 4,
 "nbformat_minor": 2
}
